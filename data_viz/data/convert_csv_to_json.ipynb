{
 "cells": [
  {
   "cell_type": "code",
   "execution_count": 3,
   "metadata": {},
   "outputs": [],
   "source": [
    "import csv\n",
    "import json\n",
    "from collections import OrderedDict\n",
    "\n",
    "fieldnames = (\"id\",\"name\",\"host_id\",\"host_name\",\"neighbourhood\",\"latitude\",\"longitude\",\"room_type\",\"price\",\"minimum_nights\",\"number_of_reviews\",\"reviews_per_month\",\"calculated_host_listings_count\",\"availability_365\",\"month_test\",\"price_range\")\n",
    "\n",
    "entries = []\n",
    "#the with statement is better since it handles closing your file properly after usage.\n",
    "with open('df_listings.csv', 'r') as csvfile:\n",
    "    #python's standard dict is not guaranteeing any order, \n",
    "    #but if you write into an OrderedDict, order of write operations will be kept in output.\n",
    "    reader = csv.DictReader(csvfile, fieldnames)\n",
    "    for row in reader:\n",
    "        entry = OrderedDict()\n",
    "        for field in fieldnames:\n",
    "            entry[field] = row[field]\n",
    "        entries.append(entry)\n",
    "\n",
    "output = {\n",
    "    \"Listings\": entries\n",
    "}\n",
    "\n",
    "with open('df_listings.json', 'w') as jsonfile:\n",
    "    json.dump(output, jsonfile)\n",
    "    jsonfile.write('\\n')"
   ]
  },
  {
   "cell_type": "code",
   "execution_count": 1,
   "metadata": {},
   "outputs": [],
   "source": [
    "# fieldnames = (\"id\",\"name\",\"host_id\",\"host_name\",\"neighbourhood\",\"latitude\",\"longitude\",\"room_type\",\"price\",\"minimum_nights\",\"number_of_reviews\",\"reviews_per_month\",\"calculated_host_listings_count\",\"availability_365\",\"month_test\",\"price_range\")"
   ]
  },
  {
   "cell_type": "code",
   "execution_count": null,
   "metadata": {},
   "outputs": [],
   "source": []
  }
 ],
 "metadata": {
  "kernelspec": {
   "display_name": "Python 3",
   "language": "python",
   "name": "python3"
  },
  "language_info": {
   "codemirror_mode": {
    "name": "ipython",
    "version": 3
   },
   "file_extension": ".py",
   "mimetype": "text/x-python",
   "name": "python",
   "nbconvert_exporter": "python",
   "pygments_lexer": "ipython3",
   "version": "3.7.3"
  }
 },
 "nbformat": 4,
 "nbformat_minor": 2
}
